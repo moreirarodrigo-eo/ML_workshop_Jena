{
  "nbformat": 4,
  "nbformat_minor": 0,
  "metadata": {
    "colab": {
      "provenance": [],
      "authorship_tag": "ABX9TyPQJd9yJyzQG6cW071FAIjD",
      "include_colab_link": true
    },
    "kernelspec": {
      "name": "python3",
      "display_name": "Python 3"
    },
    "language_info": {
      "name": "python"
    }
  },
  "cells": [
    {
      "cell_type": "markdown",
      "metadata": {
        "id": "view-in-github",
        "colab_type": "text"
      },
      "source": [
        "<a href=\"https://colab.research.google.com/github/moreirarodrigo-eo/ML_workshop_Jena/blob/main/Join_municip_agric_census_data_ML_workshop.ipynb\" target=\"_parent\"><img src=\"https://colab.research.google.com/assets/colab-badge.svg\" alt=\"Open In Colab\"/></a>"
      ]
    },
    {
      "cell_type": "code",
      "execution_count": 12,
      "metadata": {
        "colab": {
          "base_uri": "https://localhost:8080/"
        },
        "id": "p3TLIhFNp4kS",
        "outputId": "75391b81-3863-44ea-e92a-47901a7e97c6"
      },
      "outputs": [
        {
          "output_type": "stream",
          "name": "stdout",
          "text": [
            "Drive already mounted at /content/drive; to attempt to forcibly remount, call drive.mount(\"/content/drive\", force_remount=True).\n"
          ]
        }
      ],
      "source": [
        "import pandas as pd\n",
        "import fiona\n",
        "#!pip install geopandas\n",
        "import geopandas as gpd\n",
        "from google.colab import drive\n",
        "drive.mount('/content/drive')\n",
        "import os\n",
        "os.chdir('/content/drive/MyDrive/PROJETOS/ML_workshop_JENA/')"
      ]
    },
    {
      "cell_type": "code",
      "source": [
        "df_agro = pd.read_excel('/content/drive/MyDrive/PROJETOS/ML_workshop_JENA/Dados_area_plantada.xlsx')\n",
        "df_agro.head()"
      ],
      "metadata": {
        "id": "Jo0mBPoSqK_r"
      },
      "execution_count": null,
      "outputs": []
    },
    {
      "cell_type": "code",
      "source": [
        "df_muni = gpd.read_file('/content/drive/MyDrive/PROJETOS/ML_workshop_JENA/MUNI_AL.gpkg')\n"
      ],
      "metadata": {
        "id": "JTGJwQNjqu9m"
      },
      "execution_count": 9,
      "outputs": []
    },
    {
      "cell_type": "code",
      "source": [
        "df_muni_agro = df_muni.merge(df_agro, on='nome')\n",
        "df_muni_agro.head()"
      ],
      "metadata": {
        "id": "IZzL3qOpq6mx"
      },
      "execution_count": null,
      "outputs": []
    },
    {
      "cell_type": "code",
      "source": [
        "df_muni_agro.to_file(\"df_muni_agro.gpkg\", driver = 'GPKG')"
      ],
      "metadata": {
        "id": "R8EhRTnkrmqc"
      },
      "execution_count": 14,
      "outputs": []
    }
  ]
}